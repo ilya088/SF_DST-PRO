{
 "cells": [
  {
   "cell_type": "code",
   "execution_count": 1,
   "metadata": {},
   "outputs": [],
   "source": [
    "import numpy as np"
   ]
  },
  {
   "cell_type": "code",
   "execution_count": 3,
   "metadata": {},
   "outputs": [],
   "source": [
    "def score_game(game_core):\n",
    "    '''Запускаем игру 1000 раз, чтобы узнать, как быстро игра угадывает число'''\n",
    "    count_ls = []\n",
    "    np.random.seed(1)  # фиксируем RANDOM SEED, чтобы ваш эксперимент был воспроизводим!\n",
    "    random_array = np.random.randint(1,101, size=(1000))\n",
    "    for number in random_array:\n",
    "        count_ls.append(game_core(number))\n",
    "    score = int(np.mean(count_ls))\n",
    "    print(f\"Ваш алгоритм угадывает число в среднем за {score} попыток\")\n",
    "    return(score)"
   ]
  },
  {
   "cell_type": "code",
   "execution_count": 36,
   "metadata": {},
   "outputs": [],
   "source": [
    "def game_core_v4(number):\n",
    "    count = 0 # number of attempts\n",
    "    range_start = 1 # start of range\n",
    "    range_end = 101 # end of range\n",
    "    predict = int(range_end/2) # middle of range of possible numbers\n",
    "    if number > predict: \n",
    "        count += 1\n",
    "        predict = int(range_end*0.75) # 3/4 of range of possible numbers\n",
    "        if number > predict:\n",
    "            count += 1\n",
    "            predict = np.random.randint(int(range_end*0.75),range_end) # range of random starts from 3/4 till the end\n",
    "            while number != predict:\n",
    "                count += 1\n",
    "                if number > predict: \n",
    "                    predict += 1\n",
    "                elif number < predict: \n",
    "                    predict -= 1\n",
    "        elif number < predict:\n",
    "            count += 1\n",
    "            predict = np.random.randint(int(range_end/2),int(range_end*0.75)) # range of random starts from 1/2 till 3/4\n",
    "            while number != predict:\n",
    "                count += 1\n",
    "                if number > predict: \n",
    "                    predict += 1\n",
    "                elif number < predict: \n",
    "                    predict -= 1\n",
    "        else:\n",
    "            count += 1\n",
    "    elif number < predict:\n",
    "        count += 1\n",
    "        predict = int(range_end*0.25) # 1/4 of range of possible numbers\n",
    "        if number > predict:\n",
    "            count += 1\n",
    "            predict = np.random.randint(int(range_end*0.25),int(range_end/2)) # range of random starts from 1/4 till 1/2\n",
    "            while number != predict:\n",
    "                count+=1\n",
    "                if number > predict: \n",
    "                    predict += 1\n",
    "                elif number < predict: \n",
    "                    predict -= 1\n",
    "        elif number < predict:\n",
    "            count += 1\n",
    "            predict = np.random.randint(range_start,int(range_end*0.25))# range of random starts from start till 1/4\n",
    "            while number != predict:\n",
    "                count+=1\n",
    "                if number > predict: \n",
    "                    predict += 1\n",
    "                elif number < predict: \n",
    "                    predict -= 1\n",
    "        else:\n",
    "            count += 1\n",
    "    else:\n",
    "        count += 1\n",
    "    return(count)"
   ]
  },
  {
   "cell_type": "code",
   "execution_count": 37,
   "metadata": {},
   "outputs": [
    {
     "name": "stdout",
     "output_type": "stream",
     "text": [
      "Ваш алгоритм угадывает число в среднем за 9 попыток\n"
     ]
    },
    {
     "data": {
      "text/plain": [
       "9"
      ]
     },
     "execution_count": 37,
     "metadata": {},
     "output_type": "execute_result"
    }
   ],
   "source": [
    "score_game(game_core_v4)"
   ]
  }
 ],
 "metadata": {
  "kernelspec": {
   "display_name": "Python 3",
   "language": "python",
   "name": "python3"
  },
  "language_info": {
   "codemirror_mode": {
    "name": "ipython",
    "version": 3
   },
   "file_extension": ".py",
   "mimetype": "text/x-python",
   "name": "python",
   "nbconvert_exporter": "python",
   "pygments_lexer": "ipython3",
   "version": "3.8.3"
  }
 },
 "nbformat": 4,
 "nbformat_minor": 4
}
